{
 "cells": [
  {
   "cell_type": "code",
   "execution_count": 7,
   "id": "e06e58fd",
   "metadata": {},
   "outputs": [],
   "source": [
    "from bs4 import BeautifulSoup\n",
    "import requests"
   ]
  },
  {
   "cell_type": "code",
   "execution_count": 8,
   "id": "5004bb51",
   "metadata": {},
   "outputs": [
    {
     "name": "stdout",
     "output_type": "stream",
     "text": [
      "Enter the topic: tiger\n"
     ]
    }
   ],
   "source": [
    "title=str(input(\"Enter the topic: \")).replace(\" \",\"+\")\n",
    "link='https://www.google.com/search?q='+title+\"+wikipedia\""
   ]
  },
  {
   "cell_type": "code",
   "execution_count": 9,
   "id": "9c1b6487",
   "metadata": {},
   "outputs": [],
   "source": [
    "res=requests.get(link)\n",
    "soup=BeautifulSoup(res.text,'html.parser')"
   ]
  },
  {
   "cell_type": "code",
   "execution_count": 10,
   "id": "ccc300e1",
   "metadata": {},
   "outputs": [],
   "source": [
    "for sp in soup.find_all('div'):\n",
    "    try:\n",
    "        link=sp.find('a').get('href')\n",
    "        if ('en.wikipedia.org' in link):\n",
    "            break\n",
    "    except:\n",
    "        pass\n",
    "link=link[7:].split('&')[0]"
   ]
  },
  {
   "cell_type": "code",
   "execution_count": 11,
   "id": "8a071abe",
   "metadata": {},
   "outputs": [],
   "source": [
    "res=requests.get(link)\n",
    "soup=BeautifulSoup(res.text,'html.parser')\n",
    "heading=soup.find('h1').text\n",
    "corpus=\"\"\n",
    "for p in soup.find_all('p'):\n",
    "    corpus+=p.text\n",
    "    corpus+='\\n'\n",
    "for i in range(1,10000):\n",
    "    corpus=corpus.replace('['+str(i)+']','')"
   ]
  },
  {
   "cell_type": "code",
   "execution_count": 15,
   "id": "3613a17f",
   "metadata": {},
   "outputs": [],
   "source": [
    "fd=open(heading+'.txt','w', encoding='utf-8')\n",
    "fd.write(heading+' Wikipedia')\n",
    "fd.write(corpus)\n",
    "fd.close()"
   ]
  },
  {
   "cell_type": "code",
   "execution_count": null,
   "id": "e529f69a",
   "metadata": {},
   "outputs": [],
   "source": []
  }
 ],
 "metadata": {
  "kernelspec": {
   "display_name": "Python 3 (ipykernel)",
   "language": "python",
   "name": "python3"
  },
  "language_info": {
   "codemirror_mode": {
    "name": "ipython",
    "version": 3
   },
   "file_extension": ".py",
   "mimetype": "text/x-python",
   "name": "python",
   "nbconvert_exporter": "python",
   "pygments_lexer": "ipython3",
   "version": "3.11.5"
  }
 },
 "nbformat": 4,
 "nbformat_minor": 5
}
